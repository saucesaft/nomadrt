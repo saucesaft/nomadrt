{
 "cells": [
  {
   "cell_type": "code",
   "execution_count": 164,
   "id": "f4edaff3-4dfd-4087-a4ee-6727d8e7e632",
   "metadata": {},
   "outputs": [],
   "source": [
    "# includes\n",
    "import nomadrt\n",
    "import numpy as np\n",
    "from importlib import reload\n",
    "reload(nomadrt)\n",
    "from nomadrt.distance_trt import DistanceModuleTRT\n",
    "from nomadrt.model.noise_scheduler import DDPMScheduler\n",
    "import time"
   ]
  },
  {
   "cell_type": "code",
   "execution_count": 165,
   "id": "cfa5018c-2662-43b8-825c-d9d28a8fa3d6",
   "metadata": {},
   "outputs": [
    {
     "name": "stdout",
     "output_type": "stream",
     "text": [
      "[01/06/2025-07:08:17] [TRT] [W] The getMaxBatchSize() function should not be used with an engine built from a network created with NetworkDefinitionCreationFlag::kEXPLICIT_BATCH flag. This function will always return 1.\n",
      "[01/06/2025-07:08:17] [TRT] [W] The getMaxBatchSize() function should not be used with an engine built from a network created with NetworkDefinitionCreationFlag::kEXPLICIT_BATCH flag. This function will always return 1.\n"
     ]
    }
   ],
   "source": [
    "# model definition\n",
    "config = {\n",
    "    \"logger\": None,\n",
    "    \"num_samples\": 10,\n",
    "    \"len_traj_pred\": 8,\n",
    "    \"num_diffusion_iters\": 10,\n",
    "}\n",
    "model = DistanceModuleTRT( 'weights/distance.engine', config )"
   ]
  },
  {
   "cell_type": "code",
   "execution_count": 167,
   "id": "29a4c414-8a10-4ac5-a311-0ce1800587ff",
   "metadata": {},
   "outputs": [
    {
     "data": {
      "text/plain": [
       "{'vision_features': {'host': array([0., 0., 0., ..., 0., 0., 0.], dtype=float32),\n",
       "  'device': <pycuda._driver.DeviceAllocation at 0xffff030f5880>,\n",
       "  'shape': (10, 256),\n",
       "  'type': numpy.float32}}"
      ]
     },
     "execution_count": 167,
     "metadata": {},
     "output_type": "execute_result"
    }
   ],
   "source": [
    "model.inputs"
   ]
  },
  {
   "cell_type": "code",
   "execution_count": 171,
   "id": "85fd4bf1-bf52-4343-8fd5-cf13e1f7a1cc",
   "metadata": {},
   "outputs": [
    {
     "name": "stdout",
     "output_type": "stream",
     "text": [
      "0.009682176000012532\n",
      "0.0003603199999986373\n",
      "0.0002767040000151155\n",
      "0.00025808000000893117\n",
      "0.00023612800001160394\n",
      "0.00023830399999269503\n",
      "0.00029356799998936367\n",
      "0.0002501120000033552\n",
      "0.0002263359999972181\n",
      "0.00025769600000558057\n",
      "0.00025993600002038875\n",
      "0.00020156799999426767\n",
      "0.0002011200000140434\n",
      "0.0002451199999882192\n",
      "0.00019974399998545778\n",
      "0.0002700480000044081\n",
      "0.0002489919999959511\n",
      "0.0002493759999993017\n",
      "0.00027049600001305407\n",
      "0.0002457919999869773\n",
      "0.00026239999999688735\n",
      "0.00027059200002099715\n",
      "0.00023366400000668364\n",
      "0.00029321599998866077\n",
      "0.00022870399999419533\n",
      "0.00022975999999630403\n",
      "0.00029644800000028226\n",
      "0.000253312000012329\n",
      "0.00028656000000637505\n",
      "0.00023366400000668364\n",
      "0.0002633600000194747\n",
      "0.00022787200001062047\n",
      "0.0002739840000174354\n",
      "0.000231263999978637\n",
      "0.00022835199999349243\n",
      "0.00030966400001375405\n",
      "0.00022144000001844688\n",
      "0.0003127680000147848\n",
      "0.00023427200000014636\n",
      "0.00026636800001256233\n",
      "0.0002170879999994213\n",
      "0.00022684799998273775\n",
      "0.0002949119999868799\n",
      "0.0002291199999717719\n",
      "0.0002873599999873022\n",
      "0.00022928000001343207\n",
      "0.00022572800000375537\n",
      "0.0002490239999985988\n",
      "0.00023446400001603251\n",
      "0.00029091200002540063\n",
      "0.00024095999998507978\n",
      "0.00030214399998840236\n",
      "0.0002241279999850576\n",
      "0.00023423999999749867\n",
      "0.00022406400000818394\n",
      "0.0002473280000003797\n",
      "0.00022160000000326363\n",
      "0.00023513600001479062\n",
      "0.000243744000016477\n",
      "0.000222112000017205\n",
      "0.0002636800000175299\n",
      "0.00020652800000675597\n",
      "0.00026841599998306265\n",
      "0.0002074880000009216\n",
      "0.00025705600000947015\n",
      "0.00019865599998070138\n",
      "0.0002262719999919227\n",
      "0.00018745600002034735\n",
      "0.00019497599998885562\n",
      "0.00021759999998494095\n",
      "0.00018592000000694497\n",
      "0.00023526399999695968\n",
      "0.0002085440000030303\n",
      "0.0002401599999757309\n",
      "0.0001843839999935426\n",
      "0.0002063999999961652\n",
      "0.00018883199999208955\n",
      "0.000232704000012518\n",
      "0.0001850559999923007\n",
      "0.00022089600000185783\n",
      "0.00018988800002261996\n",
      "0.00023206399998798588\n",
      "0.0002103040000065448\n",
      "0.00021081599999206446\n",
      "0.00018428799998559953\n",
      "0.0002114240000139489\n",
      "0.0001890240000079757\n",
      "0.000226687999997921\n",
      "0.00018499199998700533\n",
      "0.00021369600000298306\n",
      "0.0001943039999900975\n",
      "0.00022678400000586407\n",
      "0.00018054399998845838\n",
      "0.0002081599999996797\n",
      "0.0001876160000051641\n",
      "0.0002195520000043416\n",
      "0.00018416000000343047\n",
      "0.00021465599999714868\n",
      "0.0001815679999879194\n",
      "0.00018499199998700533\n"
     ]
    }
   ],
   "source": [
    "#inputs\n",
    "features_shape = model.inputs['vision_features']['shape']\n",
    "\n",
    "import time\n",
    "\n",
    "for i in range(100):\n",
    "    features = np.random.randint(2, size=gc_shape)\n",
    "    start = time.process_time()\n",
    "    \n",
    "    out = model.predict_distance(features)\n",
    "    \n",
    "    print( time.process_time() - start)\n",
    "    # print( out )\n"
   ]
  }
 ],
 "metadata": {
  "kernelspec": {
   "display_name": "Python 3 (ipykernel)",
   "language": "python",
   "name": "python3"
  },
  "language_info": {
   "codemirror_mode": {
    "name": "ipython",
    "version": 3
   },
   "file_extension": ".py",
   "mimetype": "text/x-python",
   "name": "python",
   "nbconvert_exporter": "python",
   "pygments_lexer": "ipython3",
   "version": "3.8.10"
  }
 },
 "nbformat": 4,
 "nbformat_minor": 5
}
