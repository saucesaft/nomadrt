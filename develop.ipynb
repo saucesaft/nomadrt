{
 "cells": [
  {
   "cell_type": "code",
   "execution_count": 1,
   "id": "f4edaff3-4dfd-4087-a4ee-6727d8e7e632",
   "metadata": {},
   "outputs": [],
   "source": [
    "# includes\n",
    "import nomadrt\n",
    "import numpy as np\n",
    "from importlib import reload\n",
    "# reload(nomadrt.encoder_trt)\n",
    "from nomadrt.trt_model import NomadTRT\n",
    "import time"
   ]
  },
  {
   "cell_type": "code",
   "execution_count": 2,
   "id": "cfa5018c-2662-43b8-825c-d9d28a8fa3d6",
   "metadata": {},
   "outputs": [
    {
     "name": "stdout",
     "output_type": "stream",
     "text": [
      "[01/10/2025-20:29:23] [TRT] [W] The getMaxBatchSize() function should not be used with an engine built from a network created with NetworkDefinitionCreationFlag::kEXPLICIT_BATCH flag. This function will always return 1.\n",
      "[01/10/2025-20:29:23] [TRT] [W] The getMaxBatchSize() function should not be used with an engine built from a network created with NetworkDefinitionCreationFlag::kEXPLICIT_BATCH flag. This function will always return 1.\n",
      "[01/10/2025-20:29:23] [TRT] [W] The getMaxBatchSize() function should not be used with an engine built from a network created with NetworkDefinitionCreationFlag::kEXPLICIT_BATCH flag. This function will always return 1.\n",
      "[01/10/2025-20:29:23] [TRT] [W] The getMaxBatchSize() function should not be used with an engine built from a network created with NetworkDefinitionCreationFlag::kEXPLICIT_BATCH flag. This function will always return 1.\n",
      "[01/10/2025-20:29:23] [TRT] [W] The getMaxBatchSize() function should not be used with an engine built from a network created with NetworkDefinitionCreationFlag::kEXPLICIT_BATCH flag. This function will always return 1.\n",
      "[01/10/2025-20:29:23] [TRT] [W] The getMaxBatchSize() function should not be used with an engine built from a network created with NetworkDefinitionCreationFlag::kEXPLICIT_BATCH flag. This function will always return 1.\n",
      "[01/10/2025-20:29:23] [TRT] [W] The getMaxBatchSize() function should not be used with an engine built from a network created with NetworkDefinitionCreationFlag::kEXPLICIT_BATCH flag. This function will always return 1.\n",
      "[01/10/2025-20:29:23] [TRT] [W] The getMaxBatchSize() function should not be used with an engine built from a network created with NetworkDefinitionCreationFlag::kEXPLICIT_BATCH flag. This function will always return 1.\n",
      "[01/10/2025-20:29:23] [TRT] [W] The getMaxBatchSize() function should not be used with an engine built from a network created with NetworkDefinitionCreationFlag::kEXPLICIT_BATCH flag. This function will always return 1.\n",
      "[01/10/2025-20:29:23] [TRT] [W] The getMaxBatchSize() function should not be used with an engine built from a network created with NetworkDefinitionCreationFlag::kEXPLICIT_BATCH flag. This function will always return 1.\n"
     ]
    }
   ],
   "source": [
    "# model definition\n",
    "config = {\n",
    "    \"logger\": None,\n",
    "    \"num_samples\": 10,\n",
    "    \"len_traj_pred\": 8,\n",
    "    \"num_diffusion_iters\": 10,\n",
    "}\n",
    "model = NomadTRT ( 'weights', None )"
   ]
  },
  {
   "cell_type": "code",
   "execution_count": 5,
   "id": "29a4c414-8a10-4ac5-a311-0ce1800587ff",
   "metadata": {},
   "outputs": [
    {
     "data": {
      "text/plain": [
       "{'obs_img': {'host': array([0., 0., 0., ..., 0., 0., 0.], dtype=float32),\n",
       "  'device': <pycuda._driver.DeviceAllocation at 0xffff7e7a43a0>,\n",
       "  'shape': (1, 12, 96, 96),\n",
       "  'type': numpy.float32},\n",
       " 'goal_img': {'host': array([0., 0., 0., ..., 0., 0., 0.], dtype=float32),\n",
       "  'device': <pycuda._driver.DeviceAllocation at 0xffff7e7a4460>,\n",
       "  'shape': (1, 3, 96, 96),\n",
       "  'type': numpy.float32},\n",
       " 'input_goal_mask': {'host': array([0], dtype=int32),\n",
       "  'device': <pycuda._driver.DeviceAllocation at 0xffff7e7a4580>,\n",
       "  'shape': (1,),\n",
       "  'type': numpy.int32}}"
      ]
     },
     "execution_count": 5,
     "metadata": {},
     "output_type": "execute_result"
    }
   ],
   "source": [
    "model.encoder_session.inputs"
   ]
  },
  {
   "cell_type": "code",
   "execution_count": 9,
   "id": "85fd4bf1-bf52-4343-8fd5-cf13e1f7a1cc",
   "metadata": {},
   "outputs": [
    {
     "data": {
      "text/plain": [
       "(1, 12, 96, 96)"
      ]
     },
     "execution_count": 9,
     "metadata": {},
     "output_type": "execute_result"
    }
   ],
   "source": [
    "#inputs\n",
    "obs_shape = model.encoder_session.inputs['obs_img']['shape']\n",
    "goal_shape = model.encoder_session.inputs['goal_img']['shape']\n",
    "\n",
    "# obs = np.random.randint(2, size=obs_shape)\n",
    "goal = np.random.randint(2, size=goal_shape)\n",
    "# mask = np.zeros(1, dtype=int).repeat(goal_shape[0])\n",
    "\n",
    "# for i in range(100):\n",
    "#     start = time.process_time()    \n",
    "#     model.predict(obs, goal, mask)    \n",
    "#     print( time.process_time() - start)\n",
    "#     # print( out )\n",
    "q = [goal, goal, goal, goal]\n",
    "\n",
    "np.concatenate(q, axis=1).shape"
   ]
  }
 ],
 "metadata": {
  "kernelspec": {
   "display_name": "Python 3 (ipykernel)",
   "language": "python",
   "name": "python3"
  },
  "language_info": {
   "codemirror_mode": {
    "name": "ipython",
    "version": 3
   },
   "file_extension": ".py",
   "mimetype": "text/x-python",
   "name": "python",
   "nbconvert_exporter": "python",
   "pygments_lexer": "ipython3",
   "version": "3.8.10"
  }
 },
 "nbformat": 4,
 "nbformat_minor": 5
}
